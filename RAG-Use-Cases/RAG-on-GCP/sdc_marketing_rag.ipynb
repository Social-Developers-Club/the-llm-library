{
 "cells": [
  {
   "cell_type": "markdown",
   "id": "da4f4884-2f08-49b4-8d96-4d2024b31244",
   "metadata": {
    "tags": []
   },
   "source": [
    "# SDC Marketing RAG"
   ]
  },
  {
   "cell_type": "markdown",
   "id": "2e205327-7a41-4825-9f9b-87f71a1ade7d",
   "metadata": {},
   "source": [
    "## Install Libs"
   ]
  },
  {
   "cell_type": "code",
   "execution_count": 1,
   "id": "45a57d59-d476-4953-ae5a-64ff12d0a352",
   "metadata": {
    "tags": []
   },
   "outputs": [],
   "source": [
    "# %pip install --upgrade --user --quiet google-cloud-aiplatform \"langchain-google-vertexai\" \"langchain-google-community[featurestore]\" pypdf==4.2.0\n",
    "# %pip install PyPDF2"
   ]
  },
  {
   "cell_type": "code",
   "execution_count": 2,
   "id": "b526c50a-963b-4a27-988a-9ea5a58e0937",
   "metadata": {
    "tags": []
   },
   "outputs": [],
   "source": [
    "from dotenv import dotenv_values\n",
    "config = dotenv_values(\"config/config.env\")"
   ]
  },
  {
   "cell_type": "code",
   "execution_count": 3,
   "id": "36563b6d-d58b-4d21-a106-b6dcd6c55610",
   "metadata": {
    "tags": []
   },
   "outputs": [],
   "source": [
    "PROJECT_ID = config[\"PROJECT_ID\"]\n",
    "LOCATION = config[\"LOCATION\"]\n",
    "# CloudStorage\n",
    "BUCKET_NAME = config[\"BUCKET_NAME\"]\n",
    "BLOB_NAME = config[\"BLOB_NAME\"]\n",
    "\n",
    "# BigQuery\n",
    "DATASET_ID = config[\"DATASET_ID\"]\n",
    "TABLE_ID = config[\"TABLE_ID\"]\n",
    "\n",
    "EMBEDDING_MODEL = config[\"EMBEDDING_MODEL\"]\n",
    "\n",
    "\n"
   ]
  },
  {
   "cell_type": "markdown",
   "id": "ea4cf8f3-8d8d-49f1-9a94-774b9495d826",
   "metadata": {},
   "source": [
    "## Embedding"
   ]
  },
  {
   "cell_type": "code",
   "execution_count": 4,
   "id": "f4344cc1-1889-4454-9b00-d350857af87f",
   "metadata": {
    "tags": []
   },
   "outputs": [],
   "source": [
    "from langchain.chains import RetrievalQA\n",
    "from langchain.globals import set_debug\n",
    "from langchain.text_splitter import RecursiveCharacterTextSplitter\n",
    "from langchain_community.document_loaders import PyPDFLoader\n",
    "from langchain_google_community import BigQueryVectorStore, VertexFSVectorStore,GCSFileLoader\n",
    "from langchain_google_vertexai import VertexAI, VertexAIEmbeddings\n",
    "\n",
    "from google.cloud import storage\n",
    "# import PyPDF2\n",
    "import io\n"
   ]
  },
  {
   "cell_type": "code",
   "execution_count": 5,
   "id": "f0b2641e-c21d-4961-a919-b22cf73843b8",
   "metadata": {
    "tags": []
   },
   "outputs": [],
   "source": [
    "def build_embedding_model(embedding_model, project_id):\n",
    "    \n",
    "    embedding_model = VertexAIEmbeddings(\n",
    "        model_name=embedding_model, project=project_id\n",
    "    )\n",
    "    \n",
    "    return embedding_model"
   ]
  },
  {
   "cell_type": "markdown",
   "id": "7d642010-d40e-4ef3-bd65-282046977f0c",
   "metadata": {},
   "source": [
    "## DataPrep PDF"
   ]
  },
  {
   "cell_type": "code",
   "execution_count": 6,
   "id": "b8834a24-e6a4-4cab-8926-877ec43f89e8",
   "metadata": {
    "tags": []
   },
   "outputs": [
    {
     "name": "stderr",
     "output_type": "stream",
     "text": [
      "/home/jupyter/.local/lib/python3.10/site-packages/pypdf/_crypt_providers/_cryptography.py:32: CryptographyDeprecationWarning: ARC4 has been moved to cryptography.hazmat.decrepit.ciphers.algorithms.ARC4 and will be removed from this module in 48.0.0.\n",
      "  from cryptography.hazmat.primitives.ciphers.algorithms import AES, ARC4\n"
     ]
    }
   ],
   "source": [
    "\n",
    "# Initialize Cloud Storage client\n",
    "\n",
    "loader = GCSFileLoader(\n",
    "    project_name=PROJECT_ID, bucket=BUCKET_NAME, blob=BLOB_NAME\n",
    ")\n",
    "\n",
    "documents = loader.load()\n"
   ]
  },
  {
   "cell_type": "code",
   "execution_count": 7,
   "id": "0c349f0d-c639-4656-b416-0882b94e0e0b",
   "metadata": {
    "tags": []
   },
   "outputs": [
    {
     "name": "stdout",
     "output_type": "stream",
     "text": [
      "# of documents = 2\n"
     ]
    }
   ],
   "source": [
    "# split the documents into chunks\n",
    "text_splitter = RecursiveCharacterTextSplitter(\n",
    "    chunk_size=1000,\n",
    "    chunk_overlap=50,\n",
    "    separators=[\"\\n\\n\", \"\\n\", \".\", \"!\", \"?\", \",\", \" \", \"\"],\n",
    ")\n",
    "doc_splits = text_splitter.split_documents(documents)\n",
    "\n",
    "# Add chunk number to metadata\n",
    "for idx, split in enumerate(doc_splits):\n",
    "    split.metadata[\"chunk\"] = idx\n",
    "\n",
    "print(f\"# of documents = {len(doc_splits)}\")"
   ]
  },
  {
   "cell_type": "markdown",
   "id": "c6503932-af3e-4799-8165-2952af7889c7",
   "metadata": {},
   "source": [
    "## Configure BigQueryVectorStore as Vector Store"
   ]
  },
  {
   "cell_type": "code",
   "execution_count": 8,
   "id": "361cae19-8013-4621-9eb9-67e2644e5163",
   "metadata": {},
   "outputs": [],
   "source": [
    "embedding_model = build_embedding_model(EMBEDDING_MODEL, PROJECT_ID)"
   ]
  },
  {
   "cell_type": "code",
   "execution_count": 9,
   "id": "70e43343-ddbc-44d6-9033-f29ced57005f",
   "metadata": {
    "tags": []
   },
   "outputs": [],
   "source": [
    "def create_embeddings_table():\n",
    "    dataset_id = 'sdc_marketing' # has to be created in bQ in beforehand\n",
    "    table_id = 'sdc_instagram_guideline'\n",
    "\n",
    "    schema = [\n",
    "        bigquery.SchemaField('document_id', 'STRING', mode='REQUIRED'),\n",
    "        bigquery.SchemaField('text', 'STRING', mode='REQUIRED'),\n",
    "        bigquery.SchemaField('embedding', 'FLOAT64', mode='REPEATED'),\n",
    "    ]\n",
    "\n",
    "    table_ref = bigquery_client.dataset(dataset_id).table(table_id)\n",
    "    table = bigquery.Table(table_ref, schema=schema)\n",
    "    table = bigquery_client.create_table(table, exists_ok=True)\n",
    "    print(f\"Created table {table.full_table_id}\")\n",
    "\n",
    "# create_embeddings_table()"
   ]
  },
  {
   "cell_type": "code",
   "execution_count": 10,
   "id": "3cba0ffe-ff2f-45ae-a19d-a24462b266dd",
   "metadata": {
    "tags": []
   },
   "outputs": [
    {
     "name": "stdout",
     "output_type": "stream",
     "text": [
      "BigQuery table sdc-gen-ai.sdc_marketing.sdc_instagram_guideline initialized/validated as persistent storage. Access via BigQuery console:\n",
      " https://console.cloud.google.com/bigquery?project=sdc-gen-ai&ws=!1m5!1m4!4m3!1ssdc-gen-ai!2ssdc_marketing!3ssdc_instagram_guideline\n"
     ]
    }
   ],
   "source": [
    "\n",
    "bq_store = BigQueryVectorStore(\n",
    "    project_id=PROJECT_ID,\n",
    "    location=LOCATION,\n",
    "    dataset_name=DATASET_ID,\n",
    "    table_name=TABLE_ID,\n",
    "    embedding=embedding_model,\n",
    ")"
   ]
  },
  {
   "cell_type": "code",
   "execution_count": 11,
   "id": "ed366ca4-fdd3-4832-bcb8-270659f6eac3",
   "metadata": {},
   "outputs": [],
   "source": [
    "doc_ids = bq_store.add_documents(doc_splits)"
   ]
  },
  {
   "cell_type": "code",
   "execution_count": 12,
   "id": "d7816d97-fc35-432a-a95a-6dc7360922cb",
   "metadata": {
    "tags": []
   },
   "outputs": [
    {
     "data": {
      "text/plain": [
       "[Document(metadata={'doc_id': 'd4c9ad6aea37472a8c4be8097d196eda', 'source': 'gs://sdc_marketing/Skizze_Leitfaden_Instagram_Postings.pdf', 'chunk': 0, 'score': 0.7298426867676306}, page_content='Skizze: Leitfaden Instagram Postings\\n\\n1. Welchen Zweck hat das Posting? Überleg dir klare Ziele für das Posting 2. Welches Posting-Format (Reel, Story, Beitrag) wählst du? Habe das zugehörige Video-Format im Hinterkopf (s.u. “Technische Hintergründe”) 3. Werte und Ziele - Check! Überprüfe ob dein Vorhaben im Einklang steht: 4. 5. 6. 7. 8. 9. 10. 11. 12. 13. 14. 15. 16. 17. 18. 19. 20. 21. 22. 23.\\n\\n4. Wie bindest du die Community mit ein? Umfragen, Countdown-Sticker, zum Kommentieren auffordern (z.B. heute haben wir was zu python gelernt….was ist eure liebste Programmiersprache?),... 5. Welche Hashtags passen? Liste Hashtags: 6. Gestaltungsrichtlinen eingehalten?\\n\\nSchriftart: - Sprache (formell /Informell) - Tonalität und Hintergrundmusik - Farbschema: - - Postingstil (minimalistisch, bunt, street, etc.): - Filter und Bildbearbeitung: Logoplatzierung:\\n\\nTechnische Hintergünde:\\n\\nStory\\n\\nVideolänge bis zu 15 Sek pro Story - Hochformat (9:16) - Pixelminimum?\\n\\nBeitrag'),\n",
       " Document(metadata={'doc_id': '0a162a455f1e4696b480cb884a569e49', 'source': 'gs://sdc_marketing/Skizze_Leitfaden_Instagram_Postings.pdf', 'chunk': 0, 'score': 0.7298426867676306}, page_content='Skizze: Leitfaden Instagram Postings\\n\\n1. Welchen Zweck hat das Posting? Überleg dir klare Ziele für das Posting 2. Welches Posting-Format (Reel, Story, Beitrag) wählst du? Habe das zugehörige Video-Format im Hinterkopf (s.u. “Technische Hintergründe”) 3. Werte und Ziele - Check! Überprüfe ob dein Vorhaben im Einklang steht: 4. 5. 6. 7. 8. 9. 10. 11. 12. 13. 14. 15. 16. 17. 18. 19. 20. 21. 22. 23.\\n\\n4. Wie bindest du die Community mit ein? Umfragen, Countdown-Sticker, zum Kommentieren auffordern (z.B. heute haben wir was zu python gelernt….was ist eure liebste Programmiersprache?),... 5. Welche Hashtags passen? Liste Hashtags: 6. Gestaltungsrichtlinen eingehalten?\\n\\nSchriftart: - Sprache (formell /Informell) - Tonalität und Hintergrundmusik - Farbschema: - - Postingstil (minimalistisch, bunt, street, etc.): - Filter und Bildbearbeitung: Logoplatzierung:\\n\\nTechnische Hintergünde:\\n\\nStory\\n\\nVideolänge bis zu 15 Sek pro Story - Hochformat (9:16) - Pixelminimum?\\n\\nBeitrag'),\n",
       " Document(metadata={'doc_id': 'b32ea67e57ed4af3bb1dc556a1473faa', 'source': 'gs://sdc_marketing/Skizze_Leitfaden_Instagram_Postings.pdf', 'chunk': 1, 'score': 0.8583467290075104}, page_content='Beitrag\\n\\nBis zu 10 Slides - Quadratformat - Pixelminimum? - Videolänge bis zu 60 Sek\\n\\nReel\\n\\nVideolänge bis zu 90 Sek - Hochformat (9:16) - Pixelminimum?'),\n",
       " Document(metadata={'doc_id': 'fb203ce3f17a437bb920ef063cb51d5d', 'source': 'gs://sdc_marketing/Skizze_Leitfaden_Instagram_Postings.pdf', 'chunk': 1, 'score': 0.8583467290075104}, page_content='Beitrag\\n\\nBis zu 10 Slides - Quadratformat - Pixelminimum? - Videolänge bis zu 60 Sek\\n\\nReel\\n\\nVideolänge bis zu 90 Sek - Hochformat (9:16) - Pixelminimum?')]"
      ]
     },
     "execution_count": 12,
     "metadata": {},
     "output_type": "execute_result"
    }
   ],
   "source": [
    "\n",
    "bq_store.similarity_search(\n",
    "    \"Welchen Zweck hat das Posting?\"\n",
    ")"
   ]
  },
  {
   "cell_type": "code",
   "execution_count": 13,
   "id": "4c6c7c23-6666-477d-b81c-e876c0679831",
   "metadata": {
    "tags": []
   },
   "outputs": [],
   "source": [
    "langchain_retriever = bq_store.as_retriever()"
   ]
  },
  {
   "cell_type": "code",
   "execution_count": 17,
   "id": "baeb4b1a-ebd2-43a2-86eb-912564ec3883",
   "metadata": {
    "tags": []
   },
   "outputs": [],
   "source": [
    "\n",
    "# # Set high verbosity\n",
    "# set_debug(True)\n",
    "\n",
    "# llm = VertexAI(model_name=\"gemini-1.5-flash-002\")\n",
    "\n",
    "# search_query = \"What is the main topic discussed in the documents?\"  # @param {type:\"string\"}\n",
    "\n",
    "# retrieval_qa = RetrievalQA.from_chain_type(\n",
    "#     llm=llm, chain_type=\"stuff\", retriever=langchain_retriever\n",
    "# )\n",
    "# response = retrieval_qa.invoke(search_query)\n",
    "# print(\"\\n################ Final Answer ################\\n\")\n",
    "# print(response[\"result\"])\n",
    "     "
   ]
  },
  {
   "cell_type": "code",
   "execution_count": null,
   "id": "20655d8f-5a66-492f-98f2-fff23a4793b6",
   "metadata": {
    "tags": []
   },
   "outputs": [
    {
     "name": "stdout",
     "output_type": "stream",
     "text": [
      "Start chatting with the agent (type 'exit' to stop):\n"
     ]
    },
    {
     "name": "stdin",
     "output_type": "stream",
     "text": [
      "\n",
      "You:  Welchen Zweck hat das Posting?\n"
     ]
    },
    {
     "name": "stderr",
     "output_type": "stream",
     "text": [
      "/var/tmp/ipykernel_39913/3330456975.py:64: LangChainDeprecationWarning: The method `Chain.__call__` was deprecated in langchain 0.1.0 and will be removed in 1.0. Use :meth:`~invoke` instead.\n",
      "  response = conversational_chain({\"question\": user_input})\n"
     ]
    },
    {
     "name": "stdout",
     "output_type": "stream",
     "text": [
      "\u001b[32;1m\u001b[1;3m[chain/start]\u001b[0m \u001b[1m[chain:ConversationalRetrievalChain] Entering Chain run with input:\n",
      "\u001b[0m{\n",
      "  \"question\": \"Welchen Zweck hat das Posting?\",\n",
      "  \"chat_history\": []\n",
      "}\n",
      "\u001b[32;1m\u001b[1;3m[chain/start]\u001b[0m \u001b[1m[chain:ConversationalRetrievalChain > chain:StuffDocumentsChain] Entering Chain run with input:\n",
      "\u001b[0m[inputs]\n",
      "\u001b[32;1m\u001b[1;3m[chain/start]\u001b[0m \u001b[1m[chain:ConversationalRetrievalChain > chain:StuffDocumentsChain > chain:LLMChain] Entering Chain run with input:\n",
      "\u001b[0m{\n",
      "  \"question\": \"Welchen Zweck hat das Posting?\",\n",
      "  \"chat_history\": \"\",\n",
      "  \"context\": \"Skizze: Leitfaden Instagram Postings\\n\\n1. Welchen Zweck hat das Posting? Überleg dir klare Ziele für das Posting 2. Welches Posting-Format (Reel, Story, Beitrag) wählst du? Habe das zugehörige Video-Format im Hinterkopf (s.u. “Technische Hintergründe”) 3. Werte und Ziele - Check! Überprüfe ob dein Vorhaben im Einklang steht: 4. 5. 6. 7. 8. 9. 10. 11. 12. 13. 14. 15. 16. 17. 18. 19. 20. 21. 22. 23.\\n\\n4. Wie bindest du die Community mit ein? Umfragen, Countdown-Sticker, zum Kommentieren auffordern (z.B. heute haben wir was zu python gelernt….was ist eure liebste Programmiersprache?),... 5. Welche Hashtags passen? Liste Hashtags: 6. Gestaltungsrichtlinen eingehalten?\\n\\nSchriftart: - Sprache (formell /Informell) - Tonalität und Hintergrundmusik - Farbschema: - - Postingstil (minimalistisch, bunt, street, etc.): - Filter und Bildbearbeitung: Logoplatzierung:\\n\\nTechnische Hintergünde:\\n\\nStory\\n\\nVideolänge bis zu 15 Sek pro Story - Hochformat (9:16) - Pixelminimum?\\n\\nBeitrag\\n\\nSkizze: Leitfaden Instagram Postings\\n\\n1. Welchen Zweck hat das Posting? Überleg dir klare Ziele für das Posting 2. Welches Posting-Format (Reel, Story, Beitrag) wählst du? Habe das zugehörige Video-Format im Hinterkopf (s.u. “Technische Hintergründe”) 3. Werte und Ziele - Check! Überprüfe ob dein Vorhaben im Einklang steht: 4. 5. 6. 7. 8. 9. 10. 11. 12. 13. 14. 15. 16. 17. 18. 19. 20. 21. 22. 23.\\n\\n4. Wie bindest du die Community mit ein? Umfragen, Countdown-Sticker, zum Kommentieren auffordern (z.B. heute haben wir was zu python gelernt….was ist eure liebste Programmiersprache?),... 5. Welche Hashtags passen? Liste Hashtags: 6. Gestaltungsrichtlinen eingehalten?\\n\\nSchriftart: - Sprache (formell /Informell) - Tonalität und Hintergrundmusik - Farbschema: - - Postingstil (minimalistisch, bunt, street, etc.): - Filter und Bildbearbeitung: Logoplatzierung:\\n\\nTechnische Hintergünde:\\n\\nStory\\n\\nVideolänge bis zu 15 Sek pro Story - Hochformat (9:16) - Pixelminimum?\\n\\nBeitrag\\n\\nBeitrag\\n\\nBis zu 10 Slides - Quadratformat - Pixelminimum? - Videolänge bis zu 60 Sek\\n\\nReel\\n\\nVideolänge bis zu 90 Sek - Hochformat (9:16) - Pixelminimum?\\n\\nBeitrag\\n\\nBis zu 10 Slides - Quadratformat - Pixelminimum? - Videolänge bis zu 60 Sek\\n\\nReel\\n\\nVideolänge bis zu 90 Sek - Hochformat (9:16) - Pixelminimum?\"\n",
      "}\n",
      "\u001b[32;1m\u001b[1;3m[llm/start]\u001b[0m \u001b[1m[chain:ConversationalRetrievalChain > chain:StuffDocumentsChain > chain:LLMChain > llm:VertexAI] Entering LLM run with input:\n",
      "\u001b[0m{\n",
      "  \"prompts\": [\n",
      "    \"You are an AI assistant with the following characteristics:\\n    - Expertise in data science and machine learning.\\n    - Ability to provide clear and concise explanations.\\n    - Use bullet points when listing items.\\n\\n    Conversation History:\\n    \\n\\n    Context:\\n    Skizze: Leitfaden Instagram Postings\\n\\n1. Welchen Zweck hat das Posting? Überleg dir klare Ziele für das Posting 2. Welches Posting-Format (Reel, Story, Beitrag) wählst du? Habe das zugehörige Video-Format im Hinterkopf (s.u. “Technische Hintergründe”) 3. Werte und Ziele - Check! Überprüfe ob dein Vorhaben im Einklang steht: 4. 5. 6. 7. 8. 9. 10. 11. 12. 13. 14. 15. 16. 17. 18. 19. 20. 21. 22. 23.\\n\\n4. Wie bindest du die Community mit ein? Umfragen, Countdown-Sticker, zum Kommentieren auffordern (z.B. heute haben wir was zu python gelernt….was ist eure liebste Programmiersprache?),... 5. Welche Hashtags passen? Liste Hashtags: 6. Gestaltungsrichtlinen eingehalten?\\n\\nSchriftart: - Sprache (formell /Informell) - Tonalität und Hintergrundmusik - Farbschema: - - Postingstil (minimalistisch, bunt, street, etc.): - Filter und Bildbearbeitung: Logoplatzierung:\\n\\nTechnische Hintergünde:\\n\\nStory\\n\\nVideolänge bis zu 15 Sek pro Story - Hochformat (9:16) - Pixelminimum?\\n\\nBeitrag\\n\\nSkizze: Leitfaden Instagram Postings\\n\\n1. Welchen Zweck hat das Posting? Überleg dir klare Ziele für das Posting 2. Welches Posting-Format (Reel, Story, Beitrag) wählst du? Habe das zugehörige Video-Format im Hinterkopf (s.u. “Technische Hintergründe”) 3. Werte und Ziele - Check! Überprüfe ob dein Vorhaben im Einklang steht: 4. 5. 6. 7. 8. 9. 10. 11. 12. 13. 14. 15. 16. 17. 18. 19. 20. 21. 22. 23.\\n\\n4. Wie bindest du die Community mit ein? Umfragen, Countdown-Sticker, zum Kommentieren auffordern (z.B. heute haben wir was zu python gelernt….was ist eure liebste Programmiersprache?),... 5. Welche Hashtags passen? Liste Hashtags: 6. Gestaltungsrichtlinen eingehalten?\\n\\nSchriftart: - Sprache (formell /Informell) - Tonalität und Hintergrundmusik - Farbschema: - - Postingstil (minimalistisch, bunt, street, etc.): - Filter und Bildbearbeitung: Logoplatzierung:\\n\\nTechnische Hintergünde:\\n\\nStory\\n\\nVideolänge bis zu 15 Sek pro Story - Hochformat (9:16) - Pixelminimum?\\n\\nBeitrag\\n\\nBeitrag\\n\\nBis zu 10 Slides - Quadratformat - Pixelminimum? - Videolänge bis zu 60 Sek\\n\\nReel\\n\\nVideolänge bis zu 90 Sek - Hochformat (9:16) - Pixelminimum?\\n\\nBeitrag\\n\\nBis zu 10 Slides - Quadratformat - Pixelminimum? - Videolänge bis zu 60 Sek\\n\\nReel\\n\\nVideolänge bis zu 90 Sek - Hochformat (9:16) - Pixelminimum?\\n\\n    The user has asked the following question:\\n    Welchen Zweck hat das Posting?\\n\\n    Instructions:\\n    - Provide a step-by-step answer.\\n    - Reference the context when relevant.\\n    - Do not include any irrelevant information.\\n\\n    Answer:\"\n",
      "  ]\n",
      "}\n",
      "\u001b[36;1m\u001b[1;3m[llm/end]\u001b[0m \u001b[1m[chain:ConversationalRetrievalChain > chain:StuffDocumentsChain > chain:LLMChain > llm:VertexAI] [2.26s] Exiting LLM run with output:\n",
      "\u001b[0m{\n",
      "  \"generations\": [\n",
      "    [\n",
      "      {\n",
      "        \"text\": \"To determine the purpose of an Instagram posting, we need to define clear objectives.  This is step 1 in the provided \\\"Skizze: Leitfaden Instagram Postings.\\\"  The purpose will depend on the overall goals of your Instagram strategy.  Examples of possible purposes include:\\n\\n* **Increasing brand awareness:** To get more people to know about your brand or services.\\n* **Driving traffic to your website:** To direct users to a specific landing page for more information or to make a purchase.\\n* **Generating leads:** To collect contact information from potential customers.\\n* **Boosting engagement:** To increase likes, comments, shares, and saves on your posts.\\n* **Educating your audience:** To share valuable information or tutorials related to your field (e.g., data science).\\n* **Building community:** To foster interaction and connections with your followers.\\n* **Promoting a specific product or service:** To highlight a particular offering and encourage sales.\\n\\n\\nBefore deciding on the purpose, consider your target audience and the message you want to convey.  The purpose should be measurable, so you can later assess the success of the posting.\\n\",\n",
      "        \"generation_info\": {\n",
      "          \"is_blocked\": false,\n",
      "          \"safety_ratings\": [],\n",
      "          \"usage_metadata\": {\n",
      "            \"prompt_token_count\": 862,\n",
      "            \"candidates_token_count\": 234,\n",
      "            \"total_token_count\": 1096\n",
      "          },\n",
      "          \"finish_reason\": \"STOP\"\n",
      "        },\n",
      "        \"type\": \"Generation\"\n",
      "      }\n",
      "    ]\n",
      "  ],\n",
      "  \"llm_output\": null,\n",
      "  \"run\": null,\n",
      "  \"type\": \"LLMResult\"\n",
      "}\n",
      "\u001b[36;1m\u001b[1;3m[chain/end]\u001b[0m \u001b[1m[chain:ConversationalRetrievalChain > chain:StuffDocumentsChain > chain:LLMChain] [2.27s] Exiting Chain run with output:\n",
      "\u001b[0m{\n",
      "  \"text\": \"To determine the purpose of an Instagram posting, we need to define clear objectives.  This is step 1 in the provided \\\"Skizze: Leitfaden Instagram Postings.\\\"  The purpose will depend on the overall goals of your Instagram strategy.  Examples of possible purposes include:\\n\\n* **Increasing brand awareness:** To get more people to know about your brand or services.\\n* **Driving traffic to your website:** To direct users to a specific landing page for more information or to make a purchase.\\n* **Generating leads:** To collect contact information from potential customers.\\n* **Boosting engagement:** To increase likes, comments, shares, and saves on your posts.\\n* **Educating your audience:** To share valuable information or tutorials related to your field (e.g., data science).\\n* **Building community:** To foster interaction and connections with your followers.\\n* **Promoting a specific product or service:** To highlight a particular offering and encourage sales.\\n\\n\\nBefore deciding on the purpose, consider your target audience and the message you want to convey.  The purpose should be measurable, so you can later assess the success of the posting.\\n\"\n",
      "}\n",
      "\u001b[36;1m\u001b[1;3m[chain/end]\u001b[0m \u001b[1m[chain:ConversationalRetrievalChain > chain:StuffDocumentsChain] [2.27s] Exiting Chain run with output:\n",
      "\u001b[0m{\n",
      "  \"output_text\": \"To determine the purpose of an Instagram posting, we need to define clear objectives.  This is step 1 in the provided \\\"Skizze: Leitfaden Instagram Postings.\\\"  The purpose will depend on the overall goals of your Instagram strategy.  Examples of possible purposes include:\\n\\n* **Increasing brand awareness:** To get more people to know about your brand or services.\\n* **Driving traffic to your website:** To direct users to a specific landing page for more information or to make a purchase.\\n* **Generating leads:** To collect contact information from potential customers.\\n* **Boosting engagement:** To increase likes, comments, shares, and saves on your posts.\\n* **Educating your audience:** To share valuable information or tutorials related to your field (e.g., data science).\\n* **Building community:** To foster interaction and connections with your followers.\\n* **Promoting a specific product or service:** To highlight a particular offering and encourage sales.\\n\\n\\nBefore deciding on the purpose, consider your target audience and the message you want to convey.  The purpose should be measurable, so you can later assess the success of the posting.\\n\"\n",
      "}\n",
      "\u001b[36;1m\u001b[1;3m[chain/end]\u001b[0m \u001b[1m[chain:ConversationalRetrievalChain] [3.17s] Exiting Chain run with output:\n",
      "\u001b[0m{\n",
      "  \"answer\": \"To determine the purpose of an Instagram posting, we need to define clear objectives.  This is step 1 in the provided \\\"Skizze: Leitfaden Instagram Postings.\\\"  The purpose will depend on the overall goals of your Instagram strategy.  Examples of possible purposes include:\\n\\n* **Increasing brand awareness:** To get more people to know about your brand or services.\\n* **Driving traffic to your website:** To direct users to a specific landing page for more information or to make a purchase.\\n* **Generating leads:** To collect contact information from potential customers.\\n* **Boosting engagement:** To increase likes, comments, shares, and saves on your posts.\\n* **Educating your audience:** To share valuable information or tutorials related to your field (e.g., data science).\\n* **Building community:** To foster interaction and connections with your followers.\\n* **Promoting a specific product or service:** To highlight a particular offering and encourage sales.\\n\\n\\nBefore deciding on the purpose, consider your target audience and the message you want to convey.  The purpose should be measurable, so you can later assess the success of the posting.\\n\"\n",
      "}\n",
      "\n",
      "Assistant: To determine the purpose of an Instagram posting, we need to define clear objectives.  This is step 1 in the provided \"Skizze: Leitfaden Instagram Postings.\"  The purpose will depend on the overall goals of your Instagram strategy.  Examples of possible purposes include:\n",
      "\n",
      "* **Increasing brand awareness:** To get more people to know about your brand or services.\n",
      "* **Driving traffic to your website:** To direct users to a specific landing page for more information or to make a purchase.\n",
      "* **Generating leads:** To collect contact information from potential customers.\n",
      "* **Boosting engagement:** To increase likes, comments, shares, and saves on your posts.\n",
      "* **Educating your audience:** To share valuable information or tutorials related to your field (e.g., data science).\n",
      "* **Building community:** To foster interaction and connections with your followers.\n",
      "* **Promoting a specific product or service:** To highlight a particular offering and encourage sales.\n",
      "\n",
      "\n",
      "Before deciding on the purpose, consider your target audience and the message you want to convey.  The purpose should be measurable, so you can later assess the success of the posting.\n",
      "\n"
     ]
    }
   ],
   "source": [
    "# Import necessary modules\n",
    "# from langchain.callbacks import set_verbose\n",
    "# set_verbose(True)\n",
    "\n",
    "from langchain.prompts import PromptTemplate\n",
    "from langchain.chains import ConversationalRetrievalChain\n",
    "# from langchain.llms import VertexAI\n",
    "from langchain.memory import ConversationBufferMemory\n",
    "from langchain_google_vertexai import VertexAI, VertexAIEmbeddings\n",
    "\n",
    "# Define your custom prompt\n",
    "custom_prompt = PromptTemplate(\n",
    "    input_variables=[\"context\", \"question\", \"chat_history\"],\n",
    "    template=\"\"\"\n",
    "    You are an AI assistant with the following characteristics:\n",
    "    - Expertise in data science and machine learning.\n",
    "    - Ability to provide clear and concise explanations.\n",
    "    - Use bullet points when listing items.\n",
    "\n",
    "    Conversation History:\n",
    "    {chat_history}\n",
    "\n",
    "    Context:\n",
    "    {context}\n",
    "\n",
    "    The user has asked the following question:\n",
    "    {question}\n",
    "\n",
    "    Instructions:\n",
    "    - Provide a step-by-step answer.\n",
    "    - Reference the context when relevant.\n",
    "    - Do not include any irrelevant information.\n",
    "\n",
    "    Answer:\n",
    "    \"\"\"\n",
    ")\n",
    "\n",
    "# Initialize the LLM\n",
    "llm = VertexAI(model_name=\"gemini-1.5-flash-002\")\n",
    "\n",
    "# Set up the conversation memory\n",
    "memory = ConversationBufferMemory(\n",
    "    memory_key=\"chat_history\",\n",
    "    input_key=\"question\",\n",
    "    output_key=\"answer\",\n",
    "    return_messages=True\n",
    ")\n",
    "\n",
    "# Set up the ConversationalRetrievalChain with the custom prompt\n",
    "conversational_chain = ConversationalRetrievalChain.from_llm(\n",
    "    llm=llm,\n",
    "    retriever=langchain_retriever,\n",
    "    memory=memory,\n",
    "    combine_docs_chain_kwargs={\"prompt\": custom_prompt}\n",
    ")\n",
    "\n",
    "# Function to interact with the agent\n",
    "def chat_with_agent():\n",
    "    print(\"Start chatting with the agent (type 'exit' to stop):\")\n",
    "    while True:\n",
    "        user_input = input(\"\\nYou: \")\n",
    "        if user_input.lower() == \"exit\":\n",
    "            break\n",
    "        response = conversational_chain({\"question\": user_input})\n",
    "        print(f\"\\nAssistant: {response['answer']}\")\n",
    "\n",
    "# Start the chat\n",
    "chat_with_agent()\n"
   ]
  },
  {
   "cell_type": "code",
   "execution_count": null,
   "id": "7b92a09f-7c85-44ee-96d1-37b3cd4c3cd9",
   "metadata": {},
   "outputs": [],
   "source": []
  }
 ],
 "metadata": {
  "environment": {
   "kernel": "python3",
   "name": "common-cpu.m124",
   "type": "gcloud",
   "uri": "us-docker.pkg.dev/deeplearning-platform-release/gcr.io/base-cpu:m124"
  },
  "kernelspec": {
   "display_name": "Python 3 (Local)",
   "language": "python",
   "name": "python3"
  },
  "language_info": {
   "codemirror_mode": {
    "name": "ipython",
    "version": 3
   },
   "file_extension": ".py",
   "mimetype": "text/x-python",
   "name": "python",
   "nbconvert_exporter": "python",
   "pygments_lexer": "ipython3",
   "version": "3.10.14"
  }
 },
 "nbformat": 4,
 "nbformat_minor": 5
}
