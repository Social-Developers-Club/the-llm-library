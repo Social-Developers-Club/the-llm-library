{
 "cells": [
  {
   "cell_type": "markdown",
   "id": "ee692ecf-6a2c-4784-9304-510814f9a672",
   "metadata": {},
   "source": [
    "# SDC SocialMedia Assist Preprocessing & Embedding"
   ]
  },
  {
   "cell_type": "markdown",
   "id": "e548ef56-aafa-41e8-b195-78f06ee32fdc",
   "metadata": {},
   "source": [
    "## Import Libs "
   ]
  },
  {
   "cell_type": "code",
   "execution_count": 9,
   "id": "5dbef993-c06e-4701-a965-7f0001edfea8",
   "metadata": {
    "tags": []
   },
   "outputs": [],
   "source": [
    "from langchain_google_community import BigQueryVectorStore, VertexFSVectorStore,GCSFileLoader\n",
    "from langchain_google_vertexai import VertexAI, VertexAIEmbeddings\n",
    "from langchain.text_splitter import RecursiveCharacterTextSplitter\n",
    "from google.cloud import storage\n",
    "from dotenv import dotenv_values\n",
    "\n",
    "config = dotenv_values(\"config/config.env\")"
   ]
  },
  {
   "cell_type": "markdown",
   "id": "7d1b5d29-0f01-41d0-93fe-8d55634a772d",
   "metadata": {},
   "source": [
    "## Loading Params"
   ]
  },
  {
   "cell_type": "code",
   "execution_count": 2,
   "id": "765808a3-ad93-4301-aeab-603531c36b14",
   "metadata": {
    "tags": []
   },
   "outputs": [],
   "source": [
    "PROJECT_ID = config[\"PROJECT_ID\"]\n",
    "LOCATION = config[\"LOCATION\"]\n",
    "# CloudStorage\n",
    "BUCKET_NAME = config[\"BUCKET_NAME\"]\n",
    "BLOB_NAME = config[\"BLOB_NAME\"]\n",
    "\n",
    "# BigQuery\n",
    "DATASET_ID = config[\"DATASET_ID\"]\n",
    "TABLE_ID = config[\"TABLE_ID\"]\n",
    "\n",
    "EMBEDDING_MODEL = config[\"EMBEDDING_MODEL\"]"
   ]
  },
  {
   "cell_type": "markdown",
   "id": "ca1585bf-314a-4fda-bb27-9d5eed0eadcb",
   "metadata": {},
   "source": [
    "## Embedding & Preprocessing"
   ]
  },
  {
   "cell_type": "code",
   "execution_count": 3,
   "id": "d515c0bf-7764-4eb9-899d-63d0cbfbc472",
   "metadata": {},
   "outputs": [],
   "source": [
    "def build_embedding_model(embedding_model, project_id):\n",
    "    \n",
    "    embedding_model = VertexAIEmbeddings(\n",
    "        model_name=embedding_model, project=project_id\n",
    "    )\n",
    "    \n",
    "    return embedding_model"
   ]
  },
  {
   "cell_type": "code",
   "execution_count": 4,
   "id": "55cee46e-86ff-4d8e-a031-42fe61bd7d5f",
   "metadata": {},
   "outputs": [],
   "source": [
    "# Thin function load the doocument from a GCS bucket\n",
    "def document_loader(project_id, bucket_name, blob_name):\n",
    "\n",
    "    loader = GCSFileLoader(\n",
    "        project_name=project_id, bucket=bucket_name, blob=blob_name\n",
    "    )\n",
    "\n",
    "    documents = loader.load()\n",
    "    \n",
    "    return documents\n"
   ]
  },
  {
   "cell_type": "code",
   "execution_count": 5,
   "id": "37be3272-7440-4837-926e-1125faf111c0",
   "metadata": {},
   "outputs": [],
   "source": [
    "def text_splitter(documents):\n",
    "    # split the documents into chunks\n",
    "    text_splitter = RecursiveCharacterTextSplitter(\n",
    "        chunk_size=1000,\n",
    "        chunk_overlap=50,\n",
    "        separators=[\"\\n\\n\", \"\\n\", \".\", \"!\", \"?\", \",\", \" \", \"\"],\n",
    "    )\n",
    "    doc_splits = text_splitter.split_documents(documents)\n",
    "    \n",
    "    return doc_splits"
   ]
  },
  {
   "cell_type": "code",
   "execution_count": 6,
   "id": "be6bb14a-d76d-4a24-922b-86a99bd57dda",
   "metadata": {},
   "outputs": [],
   "source": [
    "# Just necessary if you wanna custom define the your table\n",
    "\n",
    "# def create_embeddings_table():\n",
    "#     dataset_id = 'sdc_marketing' # has to be created in bQ in beforehand\n",
    "#     table_id = 'sdc_instagram_guideline'\n",
    "\n",
    "#     schema = [\n",
    "#         bigquery.SchemaField('document_id', 'STRING', mode='REQUIRED'),\n",
    "#         bigquery.SchemaField('text', 'STRING', mode='REQUIRED'),\n",
    "#         bigquery.SchemaField('embedding', 'FLOAT64', mode='REPEATED'),\n",
    "#     ]\n",
    "\n",
    "#     table_ref = bigquery_client.dataset(dataset_id).table(table_id)\n",
    "#     table = bigquery.Table(table_ref, schema=schema)\n",
    "#     table = bigquery_client.create_table(table, exists_ok=True)\n",
    "#     print(f\"Created table {table.full_table_id}\")\n",
    "\n",
    "# create_embeddings_table()"
   ]
  },
  {
   "cell_type": "code",
   "execution_count": 7,
   "id": "de442d84-98f9-4b74-997b-3cb217426a2b",
   "metadata": {},
   "outputs": [],
   "source": [
    "def initialize_bqvector(project_id, location, dataset_id, table_id, embedding_model):\n",
    "    bq_store = BigQueryVectorStore(\n",
    "        project_id=project_id,\n",
    "        location=location,\n",
    "        dataset_name=dataset_id,\n",
    "        table_name=table_id,\n",
    "        embedding=embedding_model,\n",
    "    )"
   ]
  },
  {
   "cell_type": "markdown",
   "id": "60ed5d1e-68f8-451f-9772-5f75cb6685ca",
   "metadata": {},
   "source": [
    "## Run functions"
   ]
  },
  {
   "cell_type": "code",
   "execution_count": 10,
   "id": "779d078e-a788-41d0-8927-6b1b80f8a9a5",
   "metadata": {},
   "outputs": [
    {
     "name": "stdout",
     "output_type": "stream",
     "text": [
      "Initialize embedding model\n",
      "Loads documents from GCS\n",
      "Prep Docs\n",
      "Add chunk number to metadata\n",
      "# of documents = 2\n",
      "Initialize BQVector Storage\n",
      "BigQuery table sdc-gen-ai.sdc_marketing.sdc_instagram_guideline initialized/validated as persistent storage. Access via BigQuery console:\n",
      " https://console.cloud.google.com/bigquery?project=sdc-gen-ai&ws=!1m5!1m4!4m3!1ssdc-gen-ai!2ssdc_marketing!3ssdc_instagram_guideline\n",
      "Store Chunks to BQVector\n"
     ]
    }
   ],
   "source": [
    "print(\"01 - Initialize embedding model\")\n",
    "embedding_model = build_embedding_model(EMBEDDING_MODEL, PROJECT_ID)\n",
    "\n",
    "print(\"02 - Loads documents from GCS\")\n",
    "documents = document_loader(PROJECT_ID, BUCKET_NAME, BLOB_NAME)\n",
    "\n",
    "print(\"03 - Prep Docs\")\n",
    "chunks = text_splitter(documents)\n",
    "\n",
    "# Test\n",
    "print(\"Add chunk number to metadata\")\n",
    "for idx, split in enumerate(chunks):\n",
    "    split.metadata[\"chunk\"] = idx\n",
    "\n",
    "print(f\"# of documents = {len(chunks)}\")\n",
    "\n",
    "# Just necessary if you wanna custom define the your table\n",
    "# create_embeddings_table()\n",
    "\n",
    "print(\"04 - Initialize BQVector Storage\")\n",
    "bq_store = initialize_bqvector(PROJECT_ID,LOCATION,DATASET_ID,TABLE_ID,embedding_model)\n",
    "\n",
    "# print(\"05 - Store Chunks to BQVector\")\n",
    "# bq_store.add_documents(chunks)\n",
    "\n",
    "print(\"Done :)\")"
   ]
  },
  {
   "cell_type": "code",
   "execution_count": null,
   "id": "0bdcc5bd-081b-4296-976a-67ad2d0d602b",
   "metadata": {},
   "outputs": [],
   "source": []
  },
  {
   "cell_type": "code",
   "execution_count": null,
   "id": "634de6a3-2e74-4ded-b1e6-31f9a1c12e0f",
   "metadata": {
    "tags": []
   },
   "outputs": [],
   "source": [
    "# Test\n",
    "# bq_store.similarity_search(\n",
    "#     \"Welchen Zweck hat das Posting?\"\n",
    "# )"
   ]
  }
 ],
 "metadata": {
  "environment": {
   "kernel": "python3",
   "name": "common-cpu.m124",
   "type": "gcloud",
   "uri": "us-docker.pkg.dev/deeplearning-platform-release/gcr.io/base-cpu:m124"
  },
  "kernelspec": {
   "display_name": "Python 3 (Local)",
   "language": "python",
   "name": "python3"
  },
  "language_info": {
   "codemirror_mode": {
    "name": "ipython",
    "version": 3
   },
   "file_extension": ".py",
   "mimetype": "text/x-python",
   "name": "python",
   "nbconvert_exporter": "python",
   "pygments_lexer": "ipython3",
   "version": "3.10.14"
  }
 },
 "nbformat": 4,
 "nbformat_minor": 5
}
